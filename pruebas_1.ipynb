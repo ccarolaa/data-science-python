{
 "cells": [
  {
   "cell_type": "markdown",
   "id": "b9251081",
   "metadata": {},
   "source": [
    "## **Libreta** de pruebas de Python"
   ]
  },
  {
   "cell_type": "markdown",
   "id": "7cac3d36",
   "metadata": {},
   "source": [
    "### Básicos lenguaje **Markdown**"
   ]
  },
  {
   "cell_type": "markdown",
   "id": "9281178e",
   "metadata": {
    "scrolled": true
   },
   "source": [
    "#### Primera consulta básica\n",
    "Con el comando **print()**, se puede devolver una expresión"
   ]
  },
  {
   "cell_type": "code",
   "execution_count": 1,
   "id": "4c06fe2d",
   "metadata": {},
   "outputs": [
    {
     "name": "stdout",
     "output_type": "stream",
     "text": [
      "Hello World\n"
     ]
    }
   ],
   "source": [
    "print('Hello World')"
   ]
  },
  {
   "cell_type": "markdown",
   "id": "801c3dd1",
   "metadata": {},
   "source": [
    "### Creación de una lista\n",
    "Wishlist:\n",
    "* Ser una experta en Python \n",
    "* Desarrollar mis propias aplicaciones\n",
    "    * Creación de contraseñas\n",
    "    * etc.\n"
   ]
  },
  {
   "cell_type": "markdown",
   "id": "31025953",
   "metadata": {},
   "source": [
    "Para añadir una **imagen**, utilizamos el comando: ```![Logo](url)```"
   ]
  },
  {
   "cell_type": "markdown",
   "id": "26b46789",
   "metadata": {},
   "source": [
    "![Logo](https://lh3.googleusercontent.com/proxy/6JBdXp3lv2uFbj8C2xidBEoUZ9TYpVyUB8C6_5Oy7FrphkMrwYFJYEKBmfSUpS70BMzfZAnpT_J4odLwwXbHFbtUJznKU3iFWvlgywdiywO7IDwugeLokDVHrUeFUeiDGputuIdu0w \"Logo Python\")"
   ]
  },
  {
   "cell_type": "markdown",
   "id": "4e7c2414",
   "metadata": {},
   "source": [
    "``` Para crear códigos de bloque ```"
   ]
  },
  {
   "cell_type": "markdown",
   "id": "2c03901f",
   "metadata": {},
   "source": [
    "Para cambiar la **fuente**: ```<span style=\"font-family: Comic Sans;\">```\n",
    "¡Hola, <span style=\"font-family: Comic Sans;\">caracola!"
   ]
  },
  {
   "cell_type": "markdown",
   "id": "e81df71d",
   "metadata": {},
   "source": [
    "### Python"
   ]
  },
  {
   "cell_type": "markdown",
   "id": "1bdbdd45",
   "metadata": {},
   "source": [
    "**Tipos de datos**: \n",
    "* Integros int()\n",
    "* Decimales float()\n",
    "* Strings \n",
    "    * Para crear una string: my_string = '_texto_'"
   ]
  },
  {
   "cell_type": "code",
   "execution_count": 3,
   "id": "a42832b9",
   "metadata": {},
   "outputs": [
    {
     "name": "stdout",
     "output_type": "stream",
     "text": [
      "Mi nombre es Carla y tengo 25 años.\n"
     ]
    }
   ],
   "source": [
    "mi_nombre = 'Carla'\n",
    "mi_edad = '25'\n",
    "print('Mi nombre es ' + mi_nombre + ' y tengo ' + mi_edad + ' años.')"
   ]
  },
  {
   "cell_type": "markdown",
   "id": "d50ae1dc",
   "metadata": {},
   "source": [
    "Para replicar una string: '_string_' * 5"
   ]
  },
  {
   "cell_type": "code",
   "execution_count": 5,
   "id": "bb98adc9",
   "metadata": {},
   "outputs": [
    {
     "data": {
      "text/plain": [
       "'CarlaCarlaCarlaCarlaCarla'"
      ]
     },
     "execution_count": 5,
     "metadata": {},
     "output_type": "execute_result"
    }
   ],
   "source": [
    "mi_nombre * 5"
   ]
  },
  {
   "cell_type": "markdown",
   "id": "15e54f33",
   "metadata": {},
   "source": [
    "**Matemáticas** "
   ]
  },
  {
   "cell_type": "markdown",
   "id": "88b6b47d",
   "metadata": {},
   "source": [
    "|Operador |Significado|\n",
    "|:-------:|:---------:|\n",
    "|```+```|Suma|\n",
    "|```-```|Resta|\n",
    "|```*```|Multiplicación|\n",
    "|```/```|División|\n",
    "|```**```|Exponente|"
   ]
  },
  {
   "cell_type": "markdown",
   "id": "6607335a",
   "metadata": {},
   "source": [
    "**Función input()**"
   ]
  },
  {
   "cell_type": "code",
   "execution_count": 12,
   "id": "ce19759f",
   "metadata": {},
   "outputs": [
    {
     "name": "stdout",
     "output_type": "stream",
     "text": [
      "¡Hola! ¿Cómo te llamas? Carla\n",
      "¿Encantada de conocerte, Carla!\n",
      "Y... ¿Cuántos años tienes, Carla? 25\n",
      "Perfecto, tienes 25 añazos, wow!\n"
     ]
    }
   ],
   "source": [
    "nombre = input('¡Hola! ¿Cómo te llamas? ')\n",
    "print('¿Encantada de conocerte, ' + nombre + '!')\n",
    "edad = input('Y... ¿Cuántos años tienes, ' + nombre + '? ')\n",
    "print('Perfecto, tienes ' + edad + ' añazos, wow!')"
   ]
  },
  {
   "cell_type": "markdown",
   "id": "72bd763a",
   "metadata": {},
   "source": [
    "La función **filter()** sirve para excluir elementos en un objeto"
   ]
  },
  {
   "cell_type": "code",
   "execution_count": 15,
   "id": "8280b7fb",
   "metadata": {},
   "outputs": [
    {
     "name": "stdout",
     "output_type": "stream",
     "text": [
      "18\n",
      "24\n",
      "32\n"
     ]
    }
   ],
   "source": [
    "ages = [5, 12, 17, 18, 24, 32]\n",
    "\n",
    "def funcion_edad(x):\n",
    "    if x < 18:\n",
    "        return False\n",
    "    else:\n",
    "        return True\n",
    "    \n",
    "adults = filter(funcion_edad, ages)\n",
    "\n",
    "for x in adults:\n",
    "    print(x)"
   ]
  },
  {
   "cell_type": "markdown",
   "id": "b6516eb5",
   "metadata": {},
   "source": [
    "Para definir una **función**, utilizar \"def\""
   ]
  },
  {
   "cell_type": "code",
   "execution_count": 18,
   "id": "d3fe2e14",
   "metadata": {},
   "outputs": [],
   "source": [
    "def ciudad(): print(\"¿En qué ciudad vives?\")"
   ]
  },
  {
   "cell_type": "code",
   "execution_count": 20,
   "id": "9c40f703",
   "metadata": {},
   "outputs": [
    {
     "name": "stdout",
     "output_type": "stream",
     "text": [
      "¿En qué ciudad vives?\n"
     ]
    }
   ],
   "source": [
    "ciudad()"
   ]
  },
  {
   "cell_type": "code",
   "execution_count": 40,
   "id": "eb5af269",
   "metadata": {},
   "outputs": [
    {
     "name": "stdout",
     "output_type": "stream",
     "text": [
      "5 3.25 9\n"
     ]
    }
   ],
   "source": [
    "def ecuaciones(x, y, z): \n",
    "    a = x + 2*y \n",
    "    b = (1/8)*y + z \n",
    "    c = z + 6*x \n",
    "    print(a, b, c)\n",
    "    \n",
    "ecuaciones(1,2,3)"
   ]
  },
  {
   "cell_type": "code",
   "execution_count": 44,
   "id": "271614de",
   "metadata": {},
   "outputs": [
    {
     "name": "stdout",
     "output_type": "stream",
     "text": [
      "Nombre del producto: Champú\n",
      "Precio del producto: 2\n",
      "Nombre del producto: Gel\n",
      "Precio del producto: 3\n",
      "Nombre del producto: Esponja\n",
      "Precio del producto: 1.25\n"
     ]
    }
   ],
   "source": [
    "# Definir una función con parámetros\n",
    "def info(nombre, precio):\n",
    "    print(\"Nombre del producto: \" + nombre)\n",
    "    print(\"Precio del producto: \" + str(precio))\n",
    "    \n",
    "info(\"Champú\",2)\n",
    "info(\"Gel\",3)\n",
    "info(\"Esponja\",1.25)"
   ]
  },
  {
   "cell_type": "code",
   "execution_count": 48,
   "id": "edf35b78",
   "metadata": {},
   "outputs": [],
   "source": [
    "# Para crear una lista\n",
    "numeros = [1,2,3,4,5]\n",
    "# o también\n",
    "numeros_grandes = list((100,200,300))"
   ]
  },
  {
   "cell_type": "code",
   "execution_count": 49,
   "id": "5f76e663",
   "metadata": {},
   "outputs": [
    {
     "name": "stdout",
     "output_type": "stream",
     "text": [
      "[1, 2, 3, 4, 5]\n",
      "[100, 200, 300]\n"
     ]
    }
   ],
   "source": [
    "print(numeros)\n",
    "print(numeros_grandes)"
   ]
  },
  {
   "cell_type": "code",
   "execution_count": 60,
   "id": "376c7a18",
   "metadata": {},
   "outputs": [
    {
     "name": "stdout",
     "output_type": "stream",
     "text": [
      "[100, 200, 300, 400, 400, 99, 99, 99]\n"
     ]
    }
   ],
   "source": [
    "# Añadir más elements a una lista\n",
    "numeros_grandes.append(99)\n",
    "print(numeros_grandes)\n",
    "# Para borrar: usar remove()\n",
    "numeros_grandes.remove(400)"
   ]
  },
  {
   "cell_type": "code",
   "execution_count": 70,
   "id": "6e901e05",
   "metadata": {},
   "outputs": [
    {
     "name": "stdout",
     "output_type": "stream",
     "text": [
      "[[1, 2, 3, 4, 5], [100, 200, 300, 99]]\n"
     ]
    }
   ],
   "source": [
    "# Para crear una nested list\n",
    "mi_super_lista = [numeros, numeros_grandes]\n",
    "print(mi_super_lista)"
   ]
  },
  {
   "cell_type": "code",
   "execution_count": 73,
   "id": "f8dd45e1",
   "metadata": {},
   "outputs": [
    {
     "data": {
      "text/plain": [
       "[[1, 2, 3, 4, 5], [99, 100, 200, 300]]"
      ]
     },
     "execution_count": 73,
     "metadata": {},
     "output_type": "execute_result"
    }
   ],
   "source": [
    "# Ordenar una lista con sort()\n",
    "numeros_grandes.sort()\n",
    "mi_super_lista"
   ]
  },
  {
   "cell_type": "code",
   "execution_count": 76,
   "id": "922ad407",
   "metadata": {},
   "outputs": [
    {
     "data": {
      "text/plain": [
       "(1, 2, 3)"
      ]
     },
     "execution_count": 76,
     "metadata": {},
     "output_type": "execute_result"
    }
   ],
   "source": [
    "# Tuplas\n",
    "mi_tupla = (1, 2, 3, 4, 5)\n",
    "mi_tupla[0:3]"
   ]
  },
  {
   "cell_type": "code",
   "execution_count": 95,
   "id": "cadc52aa",
   "metadata": {},
   "outputs": [],
   "source": [
    "# Diccionarios\n",
    "Cliente_1 = {'nombre de usuario': 'c0carola', 'plataforma': 'discord'}\n",
    "Cliente_2 = {'nombre de usuario': 'pratco', 'plataforma': 'twitch'}"
   ]
  },
  {
   "cell_type": "code",
   "execution_count": 96,
   "id": "79242748",
   "metadata": {},
   "outputs": [
    {
     "name": "stdout",
     "output_type": "stream",
     "text": [
      "{'nombre de usuario': 'c0carola', 'plataforma': 'discord'}\n",
      "{'nombre de usuario': 'pratco', 'plataforma': 'twitch'}\n"
     ]
    }
   ],
   "source": [
    "print(Cliente_1)\n",
    "print(Cliente_2)"
   ]
  },
  {
   "cell_type": "code",
   "execution_count": 97,
   "id": "7018854c",
   "metadata": {},
   "outputs": [],
   "source": [
    "clientes = dict(Cliente_1), dict(Cliente_2)"
   ]
  },
  {
   "cell_type": "code",
   "execution_count": 98,
   "id": "ffdea5d5",
   "metadata": {},
   "outputs": [
    {
     "name": "stdout",
     "output_type": "stream",
     "text": [
      "({'nombre de usuario': 'c0carola', 'plataforma': 'discord'}, {'nombre de usuario': 'pratco', 'plataforma': 'twitch'})\n"
     ]
    }
   ],
   "source": [
    "print(clientes)"
   ]
  },
  {
   "cell_type": "code",
   "execution_count": 99,
   "id": "976e5fd5",
   "metadata": {},
   "outputs": [],
   "source": [
    "# Cambiar elemento\n",
    "Cliente_2['plataforma']='XBOX'"
   ]
  },
  {
   "cell_type": "code",
   "execution_count": 100,
   "id": "95cac5ff",
   "metadata": {},
   "outputs": [
    {
     "name": "stdout",
     "output_type": "stream",
     "text": [
      "{'nombre de usuario': 'pratco', 'plataforma': 'XBOX'}\n"
     ]
    }
   ],
   "source": [
    "print(Cliente_2)"
   ]
  },
  {
   "cell_type": "code",
   "execution_count": 105,
   "id": "56a49946",
   "metadata": {},
   "outputs": [
    {
     "name": "stdout",
     "output_type": "stream",
     "text": [
      "{'nombre de usuario': 'c0carola', 'plataforma': 'discord'}\n",
      "{'nombre de usuario': 'pratco', 'plataforma': 'twitch'}\n"
     ]
    },
    {
     "data": {
      "text/plain": [
       "dict_keys(['nombre de usuario', 'plataforma'])"
      ]
     },
     "execution_count": 105,
     "metadata": {},
     "output_type": "execute_result"
    }
   ],
   "source": [
    "#print all key names in the dictionary\n",
    "for x in clientes:\n",
    "    print(x)\n",
    "\n",
    "dict.keys(Cliente_1)"
   ]
  },
  {
   "cell_type": "code",
   "execution_count": 118,
   "id": "1a1b58e5",
   "metadata": {},
   "outputs": [
    {
     "name": "stdout",
     "output_type": "stream",
     "text": [
      "Valor igual a 200\n"
     ]
    }
   ],
   "source": [
    "# Expresiones condicionales\n",
    "# Equals: a == b \n",
    "# Not equals: a != b\n",
    "\n",
    "#x =  129+124\n",
    "x = 89+18\n",
    "if x > 200:\n",
    "    print('Superior a 200')\n",
    "    if x > 250:\n",
    "        print('y también superior a 250')\n",
    "elif x < 200:\n",
    "     print('Valor inferior a 200')\n",
    "#else: print('Valor inferior a 200')"
   ]
  },
  {
   "cell_type": "code",
   "execution_count": 120,
   "id": "8197292c",
   "metadata": {},
   "outputs": [
    {
     "name": "stdout",
     "output_type": "stream",
     "text": [
      "el número no está registrado\n"
     ]
    }
   ],
   "source": [
    "#If-Not-Statements\n",
    "\n",
    "x = 6\n",
    "if x not in numeros:\n",
    "    print('el número no está registrado')\n",
    "else: print('el número está registrado')"
   ]
  },
  {
   "cell_type": "code",
   "execution_count": 121,
   "id": "26d4b62b",
   "metadata": {},
   "outputs": [
    {
     "name": "stdout",
     "output_type": "stream",
     "text": [
      "1\n",
      "2\n",
      "3\n",
      "4\n",
      "5\n"
     ]
    }
   ],
   "source": [
    "# Python Loops\n",
    "\n",
    "# for loops\n",
    "for x in numeros:\n",
    "    print(x)"
   ]
  },
  {
   "cell_type": "code",
   "execution_count": 132,
   "id": "4947f054",
   "metadata": {},
   "outputs": [
    {
     "name": "stdout",
     "output_type": "stream",
     "text": [
      "(1, 2, 3, 4)\n",
      "(1, 2, 3, 4)\n"
     ]
    }
   ],
   "source": [
    "# While Loops\n",
    "x = (1,2,3,4)\n",
    "\n",
    "i = 1\n",
    "while i < 3:\n",
    "    print(x)\n",
    "    i += 1"
   ]
  },
  {
   "cell_type": "code",
   "execution_count": 133,
   "id": "23453192",
   "metadata": {},
   "outputs": [],
   "source": [
    "# Class\n",
    "class Emociones:\n",
    "    nombre = 'Alegria'"
   ]
  },
  {
   "cell_type": "code",
   "execution_count": 136,
   "id": "7e8b9450",
   "metadata": {},
   "outputs": [
    {
     "name": "stdout",
     "output_type": "stream",
     "text": [
      "Alegria\n"
     ]
    }
   ],
   "source": [
    "print(Emociones.nombre)"
   ]
  },
  {
   "cell_type": "code",
   "execution_count": null,
   "id": "030a6b4e",
   "metadata": {},
   "outputs": [],
   "source": []
  }
 ],
 "metadata": {
  "kernelspec": {
   "display_name": "Python 3",
   "language": "python",
   "name": "python3"
  },
  "language_info": {
   "codemirror_mode": {
    "name": "ipython",
    "version": 3
   },
   "file_extension": ".py",
   "mimetype": "text/x-python",
   "name": "python",
   "nbconvert_exporter": "python",
   "pygments_lexer": "ipython3",
   "version": "3.8.8"
  }
 },
 "nbformat": 4,
 "nbformat_minor": 5
}
